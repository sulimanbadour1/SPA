{
  "nbformat": 4,
  "nbformat_minor": 0,
  "metadata": {
    "colab": {
      "name": "Untitled2.ipynb",
      "provenance": [],
      "authorship_tag": "ABX9TyPXawy6SfBGJ6Hdgrm4Kxdc",
      "include_colab_link": true
    },
    "kernelspec": {
      "name": "python3",
      "display_name": "Python 3"
    }
  },
  "cells": [
    {
      "cell_type": "markdown",
      "metadata": {
        "id": "view-in-github",
        "colab_type": "text"
      },
      "source": [
        "<a href=\"https://colab.research.google.com/github/sulimanbadour1/SPA/blob/master/Task_1%22Linear_Reg%22.ipynb\" target=\"_parent\"><img src=\"https://colab.research.google.com/assets/colab-badge.svg\" alt=\"Open In Colab\"/></a>"
      ]
    },
    {
      "cell_type": "code",
      "metadata": {
        "id": "srLYVor_9viL",
        "colab_type": "code",
        "colab": {}
      },
      "source": [
        "import csv\n",
        "import numpy as np\n",
        "import matplotlib.pyplot as plt"
      ],
      "execution_count": null,
      "outputs": []
    },
    {
      "cell_type": "code",
      "metadata": {
        "id": "LXBezxCU-WyF",
        "colab_type": "code",
        "colab": {}
      },
      "source": [
        "with open('case3.txt') as csv_file:\n",
        "    csv_reader = csv.reader(csv_file, delimiter=',')\n",
        "    data = []\n",
        "    data_sum = 0\n",
        "    for row in csv_reader:\n",
        "        data.append(row[1]) #convert the string data to integer and put it in a list"
      ],
      "execution_count": null,
      "outputs": []
    },
    {
      "cell_type": "code",
      "metadata": {
        "id": "l_tZ1IGb-gC6",
        "colab_type": "code",
        "colab": {}
      },
      "source": [
        "data =[float(i)for i in data]"
      ],
      "execution_count": null,
      "outputs": []
    },
    {
      "cell_type": "code",
      "metadata": {
        "id": "Xl7Snsto-lyy",
        "colab_type": "code",
        "colab": {}
      },
      "source": [
        "time_axis = [i for i in range(len(data))]"
      ],
      "execution_count": null,
      "outputs": []
    },
    {
      "cell_type": "code",
      "metadata": {
        "id": "3A9FRkMG-wry",
        "colab_type": "code",
        "colab": {
          "base_uri": "https://localhost:8080/",
          "height": 282
        },
        "outputId": "61d3840c-34c9-4380-dc51-f1ae8b916439"
      },
      "source": [
        "plt.scatter(time_axis, data, label=\"data\", color=\"green\",\n",
        "                    marker=\"*\", s=30)\n",
        "#plt.plot(time_axis, [mean for i in range(len(data))], label=\"mean\", color=\"red\")"
      ],
      "execution_count": null,
      "outputs": [
        {
          "output_type": "execute_result",
          "data": {
            "text/plain": [
              "<matplotlib.collections.PathCollection at 0x7f519f939208>"
            ]
          },
          "metadata": {
            "tags": []
          },
          "execution_count": 8
        },
        {
          "output_type": "display_data",
          "data": {
            "image/png": "[encoded data removed]",
            "text/plain": [
              "<Figure size 432x288 with 1 Axes>"
            ]
          },
          "metadata": {
            "tags": [],
            "needs_background": "light"
          }
        }
      ]
    },
    {
      "cell_type": "code",
      "metadata": {
        "id": "V_NJSq29-z6S",
        "colab_type": "code",
        "colab": {}
      },
      "source": [
        " # x-axis label\n",
        "plt.xlabel('x - axis')"
      ],
      "execution_count": null,
      "outputs": []
    },
    {
      "cell_type": "code",
      "metadata": {
        "id": "iFE96-iA-2Ut",
        "colab_type": "code",
        "colab": {}
      },
      "source": [
        "# frequency label\n",
        "plt.ylabel('y - axis')"
      ],
      "execution_count": null,
      "outputs": []
    },
    {
      "cell_type": "code",
      "metadata": {
        "id": "Ke98ufAP-4jr",
        "colab_type": "code",
        "colab": {}
      },
      "source": [
        "# plot title\n",
        "plt.title('My scatter plot!')"
      ],
      "execution_count": null,
      "outputs": []
    },
    {
      "cell_type": "code",
      "metadata": {
        "id": "a8eqxZ99-7jK",
        "colab_type": "code",
        "colab": {}
      },
      "source": [
        "  # showing legend\n",
        "plt.legend()"
      ],
      "execution_count": null,
      "outputs": []
    },
    {
      "cell_type": "code",
      "metadata": {
        "id": "Bhz-Pi95-9QM",
        "colab_type": "code",
        "colab": {}
      },
      "source": [
        " # function to show the plot\n",
        "plt.show()"
      ],
      "execution_count": null,
      "outputs": []
    },
    {
      "cell_type": "code",
      "metadata": {
        "id": "hRKPkYFr_P-U",
        "colab_type": "code",
        "colab": {
          "base_uri": "https://localhost:8080/",
          "height": 34
        },
        "outputId": "8faf8b4b-56fd-450d-c141-90ffac37302b"
      },
      "source": [
        "sum = 0\n",
        "for i in data: #To ectract the mean\n",
        "    sum += i\n",
        "mean = sum / len(data)\n",
        "print(mean)"
      ],
      "execution_count": null,
      "outputs": [
        {
          "output_type": "stream",
          "text": [
            "180.00638510195537\n"
          ],
          "name": "stdout"
        }
      ]
    },
    {
      "cell_type": "code",
      "metadata": {
        "id": "D1SRkJH__RlM",
        "colab_type": "code",
        "colab": {
          "base_uri": "https://localhost:8080/",
          "height": 34
        },
        "outputId": "7ae4ea60-4de0-4203-ecf6-dedd19bb7e4c"
      },
      "source": [
        "pre_std_dev_sum = 0\n",
        "for i in data: #to extract the deviation\n",
        "    pre_std_dev_sum += ((i - mean)**2)\n",
        "std_dev = np.sqrt((pre_std_dev_sum / len(data)- 1))\n",
        "print(std_dev)"
      ],
      "execution_count": null,
      "outputs": [
        {
          "output_type": "stream",
          "text": [
            "104.05628025423499\n"
          ],
          "name": "stdout"
        }
      ]
    },
    {
      "cell_type": "code",
      "metadata": {
        "id": "HG_RaOL5_VNC",
        "colab_type": "code",
        "colab": {
          "base_uri": "https://localhost:8080/",
          "height": 68
        },
        "outputId": "2dd85b73-82e0-4921-d557-02ba44cc6e49"
      },
      "source": [
        "y = np.asarray([data]) # to know if the selected points fits a plane\n",
        "t = np.ones(len(data))\n",
        "x = np.asarray([t, time_axis])\n",
        "print(x.shape, y.shape)\n",
        "B = np.linalg.inv((x @ x.transpose())) @ x @ y.transpose()\n",
        "print(B)"
      ],
      "execution_count": null,
      "outputs": [
        {
          "output_type": "stream",
          "text": [
            "(2, 200000) (1, 200000)\n",
            "[[0.00440088]\n",
            " [0.00180003]]\n"
          ],
          "name": "stdout"
        }
      ]
    },
    {
      "cell_type": "code",
      "metadata": {
        "id": "1rsCvkpn_h3D",
        "colab_type": "code",
        "colab": {
          "base_uri": "https://localhost:8080/",
          "height": 282
        },
        "outputId": "394a3939-1d16-4f62-e74c-423e1e38820a"
      },
      "source": [
        "y_reg = B[0] + B[1] * time_axis #to view the line \n",
        "plt.scatter(time_axis, data, label=\"data\", color=\"green\",\n",
        "            marker=\"*\", s=15)\n",
        "plt.scatter(time_axis, y_reg, label=\"data\", color=\"blue\",\n",
        "            marker=\"*\", s=15)"
      ],
      "execution_count": null,
      "outputs": [
        {
          "output_type": "execute_result",
          "data": {
            "text/plain": [
              "<matplotlib.collections.PathCollection at 0x7f519f4b36a0>"
            ]
          },
          "metadata": {
            "tags": []
          },
          "execution_count": 18
        },
        {
          "output_type": "display_data",
          "data": {
            "image/png": "[encoded data removed]",
            "text/plain": [
              "<Figure size 432x288 with 1 Axes>"
            ]
          },
          "metadata": {
            "tags": [],
            "needs_background": "light"
          }
        }
      ]
    },
    {
      "cell_type": "code",
      "metadata": {
        "id": "vraabMC8_oYv",
        "colab_type": "code",
        "colab": {}
      },
      "source": [
        "# x-axis label\n",
        "plt.xlabel('x - axis')"
      ],
      "execution_count": null,
      "outputs": []
    },
    {
      "cell_type": "code",
      "metadata": {
        "id": "SkhO2HNC_riq",
        "colab_type": "code",
        "colab": {}
      },
      "source": [
        "# frequency label\n",
        "plt.ylabel('y - axis')\n",
        "# plot title"
      ],
      "execution_count": null,
      "outputs": []
    },
    {
      "cell_type": "code",
      "metadata": {
        "id": "ATejUMQ8_yeS",
        "colab_type": "code",
        "colab": {}
      },
      "source": [
        "# plot title\n",
        "plt.title('My scatter plot!')"
      ],
      "execution_count": null,
      "outputs": []
    },
    {
      "cell_type": "code",
      "metadata": {
        "id": "8M7Vfg6b_2wD",
        "colab_type": "code",
        "colab": {}
      },
      "source": [
        "# showing legend\n",
        "plt.legend()"
      ],
      "execution_count": null,
      "outputs": []
    },
    {
      "cell_type": "code",
      "metadata": {
        "id": "GEDlSXWE_6-z",
        "colab_type": "code",
        "colab": {}
      },
      "source": [
        "# function to show the plot\n",
        "plt.show()"
      ],
      "execution_count": null,
      "outputs": []
    }
  ]
}